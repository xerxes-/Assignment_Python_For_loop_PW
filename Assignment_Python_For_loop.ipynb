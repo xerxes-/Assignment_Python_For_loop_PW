{
 "cells": [
  {
   "cell_type": "markdown",
   "id": "32c8e9a1-473c-4207-8fdf-c460b257c000",
   "metadata": {},
   "source": [
    "# Basic Level:"
   ]
  },
  {
   "cell_type": "markdown",
   "id": "5b363281-930d-401f-9d29-a63e819401a2",
   "metadata": {},
   "source": [
    "#### 1. Write a Python program to print the numbers from 1 to 10 using a `for` loop."
   ]
  },
  {
   "cell_type": "code",
   "execution_count": 1,
   "id": "4dc0725d-5ab6-4968-adaa-127ab0b44250",
   "metadata": {},
   "outputs": [
    {
     "name": "stdout",
     "output_type": "stream",
     "text": [
      "1\n",
      "2\n",
      "3\n",
      "4\n",
      "5\n",
      "6\n",
      "7\n",
      "8\n",
      "9\n",
      "10\n"
     ]
    }
   ],
   "source": [
    "for i in range(1, 11):\n",
    "    print(i)"
   ]
  },
  {
   "cell_type": "markdown",
   "id": "9f930fad-2570-4744-a522-e583ceec78b1",
   "metadata": {},
   "source": [
    "#### 2. Create a program that calculates the sum of all numbers in a list using a `for` loop."
   ]
  },
  {
   "cell_type": "code",
   "execution_count": 2,
   "id": "414b6998-28e8-4e59-8004-d0e2628422ac",
   "metadata": {},
   "outputs": [
    {
     "name": "stdout",
     "output_type": "stream",
     "text": [
      "Sum of all numbers in the list is 196\n"
     ]
    }
   ],
   "source": [
    "lst2 = [2, 56, 48, 90]\n",
    "x = 0\n",
    "\n",
    "for i in lst2:\n",
    "    x += i\n",
    "    \n",
    "print(f\"Sum of all numbers in the list is {x}\")"
   ]
  },
  {
   "cell_type": "markdown",
   "id": "7ec43f14-8310-4182-9727-28d5e72755fb",
   "metadata": {},
   "source": [
    "#### 3. Write a program to print the characters of a string in reverse order using a `for` loop."
   ]
  },
  {
   "cell_type": "code",
   "execution_count": 5,
   "id": "3e1886c7-73a3-4dab-8f67-341d0530f1f4",
   "metadata": {},
   "outputs": [
    {
     "name": "stdout",
     "output_type": "stream",
     "text": [
      "s\n",
      "r\n",
      "e\n",
      "b\n",
      "m\n",
      "u\n",
      "n\n",
      " \n",
      "l\n",
      "l\n",
      "a\n",
      " \n",
      "f\n",
      "o\n",
      " \n",
      "m\n",
      "u\n",
      "S\n"
     ]
    }
   ],
   "source": [
    "str3 = \"Sum of all numbers\"\n",
    "r = str3[::-1]\n",
    "\n",
    "for i in r:\n",
    "    print(i)"
   ]
  },
  {
   "cell_type": "markdown",
   "id": "9cacb807-d680-48ed-b869-f32f639e4386",
   "metadata": {},
   "source": [
    "#### 4. Develop a program that finds the factorial of a given number using a `for` loop."
   ]
  },
  {
   "cell_type": "code",
   "execution_count": 6,
   "id": "f519f1aa-8e7b-4276-9ea7-55ec5c12b2ec",
   "metadata": {},
   "outputs": [
    {
     "name": "stdin",
     "output_type": "stream",
     "text": [
      "Enter a number to find its factorial:  66\n"
     ]
    },
    {
     "name": "stdout",
     "output_type": "stream",
     "text": [
      "The factorial of 66 is: 544344939077443064003729240247842752644293064388798874532860126869671081148416000000000000000\n"
     ]
    }
   ],
   "source": [
    "def factorial(n):\n",
    "    if n < 0:\n",
    "        return \"Factorial is not defined for negative numbers\"\n",
    "    elif n == 0 or n == 1:\n",
    "        return 1\n",
    "    else:\n",
    "        result = 1\n",
    "        for i in range(2, n + 1):\n",
    "            result *= i\n",
    "        return result\n",
    "\n",
    "# Input from the user\n",
    "num = int(input(\"Enter a number to find its factorial: \"))\n",
    "\n",
    "# Calculate factorial and display the result\n",
    "factorial_result = factorial(num)\n",
    "print(f\"The factorial of {num} is: {factorial_result}\")\n"
   ]
  },
  {
   "cell_type": "markdown",
   "id": "be8454aa-d94a-4568-a377-8b476d521c30",
   "metadata": {},
   "source": [
    "#### 5. Create a program to print the multiplication table of a given number using a `for` loop."
   ]
  },
  {
   "cell_type": "code",
   "execution_count": 9,
   "id": "3ccf7b36-6ee1-4ac9-b52e-381e74da9664",
   "metadata": {},
   "outputs": [
    {
     "name": "stdin",
     "output_type": "stream",
     "text": [
      "Enter a number to get its multiplication table:  2\n"
     ]
    },
    {
     "name": "stdout",
     "output_type": "stream",
     "text": [
      "2 x 1 = 2\n",
      "2 x 2 = 4\n",
      "2 x 3 = 6\n",
      "2 x 4 = 8\n",
      "2 x 5 = 10\n",
      "2 x 6 = 12\n",
      "2 x 7 = 14\n",
      "2 x 8 = 16\n",
      "2 x 9 = 18\n",
      "2 x 10 = 20\n"
     ]
    }
   ],
   "source": [
    "def mul(n):\n",
    "    for i in range(1, 11):\n",
    "        print(f\"{n} x {i} = {n * i}\")\n",
    "        \n",
    "# Input from the user\n",
    "num = int(input(\"Enter a number to get its multiplication table: \"))\n",
    "mul(num)"
   ]
  },
  {
   "cell_type": "markdown",
   "id": "e3fd5d19-eefd-450f-926e-11b6ea7b3e8e",
   "metadata": {},
   "source": [
    "#### 6. Write a program that counts the number of even and odd numbers in a list using a `for` loop."
   ]
  },
  {
   "cell_type": "code",
   "execution_count": 11,
   "id": "932a81aa-15ec-42ed-b568-183f58ab824b",
   "metadata": {},
   "outputs": [
    {
     "name": "stdout",
     "output_type": "stream",
     "text": [
      "Even number/s count: 3\n",
      "Odd number/s count: 1\n"
     ]
    }
   ],
   "source": [
    "lst6 = [2, 56, 43, 90]\n",
    "\n",
    "ecnt = 0\n",
    "ocnt = 0\n",
    "\n",
    "for i in lst6:\n",
    "    if i % 2 ==0:\n",
    "        ecnt += 1\n",
    "    else:\n",
    "        ocnt += 1\n",
    "        \n",
    "print(f\"Even number/s count: {ecnt}\")\n",
    "print(f\"Odd number/s count: {ocnt}\")"
   ]
  },
  {
   "cell_type": "markdown",
   "id": "1ee0e19e-b293-49bb-ae41-ce723e36a01f",
   "metadata": {},
   "source": [
    "#### 7. Develop a program that prints the squares of numbers from 1 to 5 using a `for` loop."
   ]
  },
  {
   "cell_type": "code",
   "execution_count": 12,
   "id": "d5e435e5-fa4e-423e-8a29-55044c95ca7b",
   "metadata": {},
   "outputs": [
    {
     "name": "stdout",
     "output_type": "stream",
     "text": [
      "1\n",
      "4\n",
      "9\n",
      "16\n",
      "25\n"
     ]
    }
   ],
   "source": [
    "for i in range(1, 6):\n",
    "    print(i ** 2)"
   ]
  },
  {
   "cell_type": "markdown",
   "id": "f2053cc5-d018-4673-b951-392179fa8657",
   "metadata": {},
   "source": [
    "#### 8. Create a program to find the length of a string without using the `len()` function."
   ]
  },
  {
   "cell_type": "code",
   "execution_count": 15,
   "id": "a048a1b1-a73e-4972-bc38-82998db2e4b8",
   "metadata": {},
   "outputs": [
    {
     "name": "stdout",
     "output_type": "stream",
     "text": [
      "Lenght of the string is 117\n"
     ]
    }
   ],
   "source": [
    "str8 = \"The factorial of 66 is: 544344939077443064003729240247842752644293064388798874532860126869671081148416000000000000000\"\n",
    "\n",
    "cnt = 0\n",
    "\n",
    "for i in str8:\n",
    "    cnt += 1\n",
    "\n",
    "print(f\"Lenght of the string is {cnt}\")"
   ]
  },
  {
   "cell_type": "markdown",
   "id": "ce2f87e4-a136-4831-9bb5-275f6cb49c3d",
   "metadata": {},
   "source": [
    "#### 9. Write a program that calculates the average of a list of numbers using a `for` loop."
   ]
  },
  {
   "cell_type": "code",
   "execution_count": 16,
   "id": "d12a2e5a-954c-49f5-a1fa-99f9f06598f1",
   "metadata": {},
   "outputs": [
    {
     "name": "stdout",
     "output_type": "stream",
     "text": [
      "Average is 47.75\n"
     ]
    }
   ],
   "source": [
    "lst9 = [2, 56, 43, 90]\n",
    "\n",
    "s = 0\n",
    "\n",
    "for i in lst9:\n",
    "    s += i\n",
    "\n",
    "avg = s / len(lst9)\n",
    "print(f\"Average is {avg}\")"
   ]
  },
  {
   "cell_type": "markdown",
   "id": "eb8a44d5-aeac-458d-b767-83c2e5cb9688",
   "metadata": {},
   "source": [
    "#### 10. Develop a program that prints the first `n` Fibonacci numbers using a `for` loop."
   ]
  },
  {
   "cell_type": "code",
   "execution_count": 17,
   "id": "9a96d09c-a5b1-4894-946c-81544f28a4a4",
   "metadata": {},
   "outputs": [
    {
     "name": "stdin",
     "output_type": "stream",
     "text": [
      "Enter the number of Fibonacci numbers to generate:  8\n"
     ]
    },
    {
     "name": "stdout",
     "output_type": "stream",
     "text": [
      "The first 8 Fibonacci numbers are: [0, 1, 1, 2, 3, 5, 8, 13]\n"
     ]
    }
   ],
   "source": [
    "def generate_fibonacci(n):\n",
    "    fibonacci_sequence = []\n",
    "    if n <= 0:\n",
    "        return \"Please enter a positive integer greater than zero.\"\n",
    "    elif n == 1:\n",
    "        fibonacci_sequence.append(0)\n",
    "    elif n == 2:\n",
    "        fibonacci_sequence.extend([0, 1])\n",
    "    else:\n",
    "        fibonacci_sequence.extend([0, 1])\n",
    "        for i in range(2, n):\n",
    "            next_number = fibonacci_sequence[i - 1] + fibonacci_sequence[i - 2]\n",
    "            fibonacci_sequence.append(next_number)\n",
    "    return fibonacci_sequence\n",
    "\n",
    "# Input from the user\n",
    "num_terms = int(input(\"Enter the number of Fibonacci numbers to generate: \"))\n",
    "\n",
    "# Generate and print the Fibonacci sequence\n",
    "fibonacci_result = generate_fibonacci(num_terms)\n",
    "print(f\"The first {num_terms} Fibonacci numbers are: {fibonacci_result}\")\n"
   ]
  },
  {
   "cell_type": "markdown",
   "id": "5ab1d688-12b1-484d-ad27-df8be0fbd81f",
   "metadata": {},
   "source": [
    "# Intermediate Level:"
   ]
  },
  {
   "cell_type": "markdown",
   "id": "c9a89a45-5772-42a0-b339-c5306f11f696",
   "metadata": {},
   "source": [
    "#### 11. Write a program to check if a given list contains any duplicates using a `for` loop."
   ]
  },
  {
   "cell_type": "code",
   "execution_count": 18,
   "id": "a5574409-6260-4129-a0b9-2aeba562868e",
   "metadata": {},
   "outputs": [
    {
     "name": "stdout",
     "output_type": "stream",
     "text": [
      "The list contains duplicates.\n"
     ]
    }
   ],
   "source": [
    "def has_duplicates(lst):\n",
    "    seen = set()\n",
    "    for item in lst:\n",
    "        if item in seen:\n",
    "            return True\n",
    "        seen.add(item)\n",
    "    return False\n",
    "\n",
    "# Example list\n",
    "my_list = [1, 2, 3, 4, 5, 6, 7, 5, 8, 9, 10]\n",
    "# You can modify this list or input your own list to test for duplicates\n",
    "\n",
    "# Check for duplicates and display the result\n",
    "if has_duplicates(my_list):\n",
    "    print(\"The list contains duplicates.\")\n",
    "else:\n",
    "    print(\"The list does not contain duplicates.\")\n"
   ]
  },
  {
   "cell_type": "markdown",
   "id": "0282133d-2299-4318-a33f-a93308d8f952",
   "metadata": {},
   "source": [
    "#### 12. Create a program that prints the prime numbers in a given range using a `for` loop."
   ]
  },
  {
   "cell_type": "code",
   "execution_count": 20,
   "id": "6514cb92-1864-44a4-92ba-e5ea5d092ab9",
   "metadata": {},
   "outputs": [
    {
     "name": "stdout",
     "output_type": "stream",
     "text": [
      "[2, 3, 5, 7, 11, 13, 17, 19, 23, 29, 31, 37, 41, 43, 47]\n"
     ]
    }
   ],
   "source": [
    "prime_list = []\n",
    "\n",
    "for i in range(50):\n",
    "    if i == 2 or i == 3 or i == 5 or i == 7:\n",
    "        prime_list.append(i)\n",
    "    elif i > 2:\n",
    "        if i % 2 == 1 and i % 3 != 0 and i % 5 != 0 and i % 7 != 0:\n",
    "            prime_list.append(i) \n",
    "            \n",
    "            \n",
    "print(prime_list)"
   ]
  },
  {
   "cell_type": "markdown",
   "id": "608b905a-b937-43ca-a75b-9ad5e90f6a78",
   "metadata": {},
   "source": [
    "#### 13. Develop a program that counts the number of vowels in a string using a `for` loop."
   ]
  },
  {
   "cell_type": "code",
   "execution_count": 21,
   "id": "207e15f0-a100-4f9f-91c1-ebe921d31b26",
   "metadata": {},
   "outputs": [
    {
     "name": "stdout",
     "output_type": "stream",
     "text": [
      "Number of vowel/s: 9\n"
     ]
    }
   ],
   "source": [
    "str13 = \"The list contains duplicates.\"\n",
    "cnt = 0\n",
    "\n",
    "for char in str13.lower():\n",
    "    if char in \"aeiou\":\n",
    "        cnt += 1\n",
    "        \n",
    "print(f\"Number of vowel/s: {cnt}\")"
   ]
  },
  {
   "cell_type": "markdown",
   "id": "a0348596-3815-4391-8717-7a9004363f3a",
   "metadata": {},
   "source": [
    "#### 14. Write a program to find the maximum element in a 2D list using a nested `for` loop."
   ]
  },
  {
   "cell_type": "code",
   "execution_count": null,
   "id": "01102860-c4bb-4e49-b9aa-17f52a0dad61",
   "metadata": {},
   "outputs": [],
   "source": [
    "def find_max_2d(lst):\n",
    "    if not lst:\n",
    "        return None  # If the list is empty, return None\n",
    "    \n",
    "    max_element = lst[0][0]  # Initialize max_element with the first element of the 2D list\n",
    "    \n",
    "    for row in lst:\n",
    "        for element in row:\n",
    "            if element > max_element:\n",
    "                max_element = element\n",
    "    \n",
    "    return max_element\n",
    "\n",
    "# Example 2D list\n",
    "two_d_list = [\n",
    "    [1, 2, 3],\n",
    "    [4, 15, 6],\n",
    "    [7, 8, 9]\n",
    "]\n",
    "\n",
    "# Find the maximum element in the 2D list and display the result\n",
    "maximum_element = find_max_2d(two_d_list)\n",
    "\n",
    "if maximum_element is not None:\n",
    "    print(f\"The maximum element in the 2D list is: {maximum_element}\")\n",
    "else:\n",
    "    print(\"The 2D list is empty.\")\n"
   ]
  },
  {
   "cell_type": "markdown",
   "id": "e75aac24-34c8-4732-8d4d-69e8f263c4d6",
   "metadata": {},
   "source": [
    "#### 15. Create a program that removes all occurrences of a specific element from a list using a `for` loop."
   ]
  },
  {
   "cell_type": "code",
   "execution_count": 25,
   "id": "33f2ba57-4477-499c-a2b8-6c9e256ad1f7",
   "metadata": {},
   "outputs": [
    {
     "name": "stdout",
     "output_type": "stream",
     "text": [
      "[1, 2, 3, 4, 6, 7, 8, 9, 10]\n"
     ]
    }
   ],
   "source": [
    "lst15 = [1, 2, 3, 4, 5, 6, 7, 5, 8, 9, 10]\n",
    "\n",
    "ro = 5\n",
    "\n",
    "for i in lst15:\n",
    "    if i == ro:\n",
    "        lst15.pop(lst15.index(i))\n",
    "        \n",
    "print(lst15)"
   ]
  },
  {
   "cell_type": "markdown",
   "id": "111ae40d-e70b-42b2-ad08-b001e4a2c2c9",
   "metadata": {},
   "source": [
    "#### 16. Develop a program that generates a multiplication table for numbers from 1 to 5 using a nested `for` loop."
   ]
  },
  {
   "cell_type": "code",
   "execution_count": 31,
   "id": "95fdbcb9-3897-4b54-8e0a-6342e7381aa4",
   "metadata": {},
   "outputs": [
    {
     "name": "stdout",
     "output_type": "stream",
     "text": [
      "1 x 1 = 1\n",
      "1 x 2 = 2\n",
      "1 x 3 = 3\n",
      "1 x 4 = 4\n",
      "1 x 5 = 5\n",
      "1 x 6 = 6\n",
      "1 x 7 = 7\n",
      "1 x 8 = 8\n",
      "1 x 9 = 9\n",
      "1 x 10 = 10\n",
      "\n",
      " --- \n",
      "\n",
      "2 x 1 = 2\n",
      "2 x 2 = 4\n",
      "2 x 3 = 6\n",
      "2 x 4 = 8\n",
      "2 x 5 = 10\n",
      "2 x 6 = 12\n",
      "2 x 7 = 14\n",
      "2 x 8 = 16\n",
      "2 x 9 = 18\n",
      "2 x 10 = 20\n",
      "\n",
      " --- \n",
      "\n",
      "3 x 1 = 3\n",
      "3 x 2 = 6\n",
      "3 x 3 = 9\n",
      "3 x 4 = 12\n",
      "3 x 5 = 15\n",
      "3 x 6 = 18\n",
      "3 x 7 = 21\n",
      "3 x 8 = 24\n",
      "3 x 9 = 27\n",
      "3 x 10 = 30\n",
      "\n",
      " --- \n",
      "\n",
      "4 x 1 = 4\n",
      "4 x 2 = 8\n",
      "4 x 3 = 12\n",
      "4 x 4 = 16\n",
      "4 x 5 = 20\n",
      "4 x 6 = 24\n",
      "4 x 7 = 28\n",
      "4 x 8 = 32\n",
      "4 x 9 = 36\n",
      "4 x 10 = 40\n",
      "\n",
      " --- \n",
      "\n",
      "5 x 1 = 5\n",
      "5 x 2 = 10\n",
      "5 x 3 = 15\n",
      "5 x 4 = 20\n",
      "5 x 5 = 25\n",
      "5 x 6 = 30\n",
      "5 x 7 = 35\n",
      "5 x 8 = 40\n",
      "5 x 9 = 45\n",
      "5 x 10 = 50\n",
      "\n",
      " --- \n",
      "\n"
     ]
    }
   ],
   "source": [
    "def mul():\n",
    "    for x in range(1, 6):\n",
    "        for i in range(1, 11):\n",
    "            print(f\"{x} x {i} = {x * i}\")\n",
    "        print(\"\\n\", \"---\", \"\\n\")\n",
    "\n",
    "mul()"
   ]
  },
  {
   "cell_type": "markdown",
   "id": "6e29852c-8a14-4058-ae04-7cfb3eb8435d",
   "metadata": {},
   "source": [
    "#### 17. Write a program that converts a list of Fahrenheit temperatures to Celsius using a `for` loop."
   ]
  },
  {
   "cell_type": "code",
   "execution_count": 33,
   "id": "e2ea1237-b38e-40bc-8dbf-e3048471a61b",
   "metadata": {},
   "outputs": [
    {
     "name": "stdout",
     "output_type": "stream",
     "text": [
      "List of Celsius Temps: [0.0, 7.22, 20.0, 23.89, 27.78, 32.22, 35.0]\n"
     ]
    }
   ],
   "source": [
    "ft = [32, 45, 68, 75, 82, 90, 95]\n",
    "\n",
    "for i in range(len(ft)):\n",
    "    ft[i] = round((ft[i] - 32) * 5/9, 2)  # round of to 2 decimal places\n",
    "    \n",
    "print(\"List of Celsius Temps:\", ft)"
   ]
  },
  {
   "cell_type": "markdown",
   "id": "a5a2615f-fb8c-4ce5-bdcb-e568f92bf789",
   "metadata": {},
   "source": [
    "#### 18. Create a program to print the common elements from two lists using a `for` loop."
   ]
  },
  {
   "cell_type": "code",
   "execution_count": 35,
   "id": "a74554b3-ab4f-4709-b5a1-b731a1b2cbbf",
   "metadata": {},
   "outputs": [
    {
     "name": "stdout",
     "output_type": "stream",
     "text": [
      "Common elements: [3, 4, 5]\n"
     ]
    }
   ],
   "source": [
    "def find_common_elements(list1, list2):\n",
    "    common_elements = []\n",
    "    for element1 in list1:\n",
    "        for element2 in list2:\n",
    "            if element1 == element2 and element1 not in common_elements:\n",
    "                common_elements.append(element1)\n",
    "    \n",
    "    return common_elements\n",
    "\n",
    "# Example lists\n",
    "list_a = [1, 2, 3, 4, 5]\n",
    "list_b = [3, 4, 5, 6, 7]\n",
    "\n",
    "# Find common elements and display the result\n",
    "common_elements = find_common_elements(list_a, list_b)\n",
    "if common_elements:\n",
    "    print(\"Common elements:\", common_elements)\n",
    "else:\n",
    "    print(\"No common elements found.\")\n"
   ]
  },
  {
   "cell_type": "markdown",
   "id": "a75aa5f5-feb4-4517-98da-b9f16fbdbc38",
   "metadata": {},
   "source": [
    "#### 19. Develop a program that prints the pattern of right-angled triangles using a `for` loop. Use ‘*’ to draw the"
   ]
  },
  {
   "cell_type": "code",
   "execution_count": 42,
   "id": "29df124d-38d1-4748-bcd0-57ab246a254e",
   "metadata": {},
   "outputs": [
    {
     "name": "stdin",
     "output_type": "stream",
     "text": [
      "Enter the number of rows for the triangle: 9\n"
     ]
    },
    {
     "name": "stdout",
     "output_type": "stream",
     "text": [
      "Right-angled triangle pattern:\n",
      "* \n",
      "* * \n",
      "* * * \n",
      "* * * * \n",
      "* * * * * \n",
      "* * * * * * \n",
      "* * * * * * * \n",
      "* * * * * * * * \n",
      "* * * * * * * * * \n"
     ]
    }
   ],
   "source": [
    "def right_angle_triangle(rows):\n",
    "    for i in range(1, rows + 1):\n",
    "        for j in range(1, i + 1):\n",
    "            print(\"*\", end=\" \")\n",
    "        print()\n",
    "\n",
    "# Input the number of rows for the triangle\n",
    "num_rows = int(input(\"Enter the number of rows for the triangle:\"))\n",
    "\n",
    "# Print the right-angled triangle pattern\n",
    "print(\"Right-angled triangle pattern:\")\n",
    "right_angle_triangle(num_rows)\n"
   ]
  },
  {
   "cell_type": "markdown",
   "id": "ec300608-1f2e-4c81-b96e-dd7ca3fe5f17",
   "metadata": {},
   "source": [
    "#### 20. Write a program to find the greatest common divisor (GCD) of two numbers using a `for` loop."
   ]
  },
  {
   "cell_type": "code",
   "execution_count": 43,
   "id": "99c77766-a8b9-452c-bfd3-1cec96a9d9b7",
   "metadata": {},
   "outputs": [
    {
     "name": "stdin",
     "output_type": "stream",
     "text": [
      "Enter first number:  14\n",
      "Enter second number:  13\n"
     ]
    },
    {
     "name": "stdout",
     "output_type": "stream",
     "text": [
      "The Greatest Common Divisor (GCD) of 14 and 13 is: 1\n"
     ]
    }
   ],
   "source": [
    "def find_gcd(a, b):\n",
    "    gcd = 1\n",
    "    for i in range(1, min(a, b) + 1):\n",
    "        if a % i == 0 and b % i == 0:\n",
    "            gcd = i\n",
    "    return gcd\n",
    "\n",
    "# Input two numbers from the user\n",
    "num1 = int(input(\"Enter first number: \"))\n",
    "num2 = int(input(\"Enter second number: \"))\n",
    "\n",
    "# Find the GCD and display the result\n",
    "gcd_result = find_gcd(num1, num2)\n",
    "print(f\"The Greatest Common Divisor (GCD) of {num1} and {num2} is: {gcd_result}\")\n"
   ]
  },
  {
   "cell_type": "markdown",
   "id": "0fc9fa6b-9e32-437f-820d-c20a8f481660",
   "metadata": {},
   "source": [
    "# Advanced Level:"
   ]
  },
  {
   "cell_type": "markdown",
   "id": "4b4b71c6-75b9-4e55-9f7c-a7240e082889",
   "metadata": {},
   "source": [
    "#### 21. Create a program that calculates the sum of the digits of numbers in a list using a list comprehension."
   ]
  },
  {
   "cell_type": "code",
   "execution_count": 45,
   "id": "ea056d62-1466-4603-aac4-62dd5f7df9a4",
   "metadata": {},
   "outputs": [
    {
     "name": "stdout",
     "output_type": "stream",
     "text": [
      "Original numbers list: [123, 456, 789, 987]\n",
      "Sum of digits for each number: [6, 15, 24, 24]\n"
     ]
    }
   ],
   "source": [
    "def digit_sum(num):\n",
    "    return sum(int(digit) for digit in str(num))\n",
    "\n",
    "# Example list of numbers\n",
    "numbers_list = [123, 456, 789, 987]\n",
    "\n",
    "# Calculate the sum of digits for each number using list comprehension\n",
    "sum_of_digits = [digit_sum(number) for number in numbers_list]\n",
    "\n",
    "# Display the sum of digits for each number\n",
    "print(\"Original numbers list:\", numbers_list)\n",
    "print(\"Sum of digits for each number:\", sum_of_digits)"
   ]
  },
  {
   "cell_type": "markdown",
   "id": "b0cc6ce1-e4b1-4c21-9c95-bf08726cfa1d",
   "metadata": {},
   "source": [
    "#### 22. Write a program to find the prime factors of a given number using a `for` loop and list comprehension."
   ]
  },
  {
   "cell_type": "code",
   "execution_count": 1,
   "id": "a0662fa5-878f-4537-bb66-a15f960190ef",
   "metadata": {},
   "outputs": [
    {
     "name": "stdin",
     "output_type": "stream",
     "text": [
      "Enter a number to find its prime factors:  14\n"
     ]
    },
    {
     "name": "stdout",
     "output_type": "stream",
     "text": [
      "The prime factors of 14 are: [2, 7]\n"
     ]
    }
   ],
   "source": [
    "def prime_factors(n):\n",
    "    factors = []\n",
    "    divisor = 2\n",
    "\n",
    "    while n > 1:\n",
    "        for _ in range(divisor, n + 1):\n",
    "            if n % divisor == 0:\n",
    "                factors.append(divisor)\n",
    "                n //= divisor\n",
    "                break\n",
    "            divisor += 1\n",
    "\n",
    "    return factors\n",
    "\n",
    "# Input a number from the user\n",
    "number = int(input(\"Enter a number to find its prime factors: \"))\n",
    "\n",
    "# Find the prime factors using list comprehension and display the result\n",
    "result = prime_factors(number)\n",
    "print(f\"The prime factors of {number} are: {result}\")\n"
   ]
  },
  {
   "cell_type": "markdown",
   "id": "1cbae64e-33ad-4c2a-b793-c1ac72945882",
   "metadata": {},
   "source": [
    "#### 23. Develop a program that extracts unique elements from a list and stores them in a new list using a list comprehension."
   ]
  },
  {
   "cell_type": "code",
   "execution_count": 2,
   "id": "57fefcf8-456d-46f2-9236-d4c1835a1f24",
   "metadata": {},
   "outputs": [
    {
     "name": "stdout",
     "output_type": "stream",
     "text": [
      "Original list: [1, 2, 2, 3, 4, 4, 5, 6, 6, 7, 8, 8]\n",
      "Unique elements: [1, 2, 3, 4, 5, 6, 7, 8]\n"
     ]
    }
   ],
   "source": [
    "original_list = [1, 2, 2, 3, 4, 4, 5, 6, 6, 7, 8, 8]\n",
    "\n",
    "# Extract unique elements using list comprehension\n",
    "unique_elements = list(set([x for x in original_list]))\n",
    "\n",
    "# Display the unique elements\n",
    "print(\"Original list:\", original_list)\n",
    "print(\"Unique elements:\", unique_elements)"
   ]
  },
  {
   "cell_type": "markdown",
   "id": "d1c32171-e3f2-45b4-a46c-116b2278bfc8",
   "metadata": {},
   "source": [
    "#### 24. Create a program that generates a list of all palindromic numbers up to a specified limit using a list comprehension."
   ]
  },
  {
   "cell_type": "code",
   "execution_count": 3,
   "id": "6c224e82-e427-40eb-8cd1-7d0c4ead30aa",
   "metadata": {},
   "outputs": [
    {
     "name": "stdin",
     "output_type": "stream",
     "text": [
      "Enter the limit to generate palindromic numbers up to:  50\n"
     ]
    },
    {
     "name": "stdout",
     "output_type": "stream",
     "text": [
      "Palindromic numbers up to 50: [0, 1, 2, 3, 4, 5, 6, 7, 8, 9, 11, 22, 33, 44]\n"
     ]
    }
   ],
   "source": [
    "def is_palindrome(num):\n",
    "    return str(num) == str(num)[::-1]\n",
    "\n",
    "# Function to generate palindromic numbers up to a limit using list comprehension\n",
    "def generate_palindromic_numbers(limit):\n",
    "    return [num for num in range(limit + 1) if is_palindrome(num)]\n",
    "\n",
    "# Input the limit from the user\n",
    "limit = int(input(\"Enter the limit to generate palindromic numbers up to: \"))\n",
    "\n",
    "# Generate palindromic numbers and display the result\n",
    "palindromic_numbers = generate_palindromic_numbers(limit)\n",
    "print(f\"Palindromic numbers up to {limit}: {palindromic_numbers}\")\n"
   ]
  },
  {
   "cell_type": "markdown",
   "id": "dde93231-269c-42a6-8e2f-3c98096f0b15",
   "metadata": {},
   "source": [
    "#### 25. Write a program to flatten a nested list using list comprehension."
   ]
  },
  {
   "cell_type": "code",
   "execution_count": 6,
   "id": "05e561b2-fb60-4945-bfab-1c80c5b85fba",
   "metadata": {},
   "outputs": [
    {
     "name": "stdout",
     "output_type": "stream",
     "text": [
      "Flattened a nested list is [1, 2, 3, 6, 7, 4, 4, 8, 9]\n"
     ]
    }
   ],
   "source": [
    "lst25 = [[1, 2, 3], [6, 7, 4], [4, 8, 9]]\n",
    "\n",
    "flattened = [i for x in lst25 for i in x]\n",
    "\n",
    "print(f\"Flattened a nested list is {flattened}\")"
   ]
  },
  {
   "cell_type": "markdown",
   "id": "e87fe027-a8fc-4f23-865c-e734da70eae7",
   "metadata": {},
   "source": [
    "#### 26. Develop a program that computes the sum of even and odd numbers in a list separately using list comprehension."
   ]
  },
  {
   "cell_type": "code",
   "execution_count": 8,
   "id": "4952e879-2364-42e6-a472-58a5ad25ff79",
   "metadata": {},
   "outputs": [
    {
     "name": "stdout",
     "output_type": "stream",
     "text": [
      "Sum of even and odd numbers in the list is [3, 9]\n"
     ]
    }
   ],
   "source": [
    "lst26 = [1, 2, 3, 6]\n",
    "\n",
    "evenlst = [x for x in lst26 if x % 2 == 0]\n",
    "oddlst = [x for x in lst26 if x % 2 == 1]\n",
    "\n",
    "result = [sum(i) for i in zip(evenlst, oddlst)]  # zip() returns tuples of nth position in the two lists in a tuple. in this case pair of tuples.\n",
    "\n",
    "print(f\"Sum of even and odd numbers in the list is {result}\")"
   ]
  },
  {
   "cell_type": "markdown",
   "id": "9f2d6184-6394-4493-a78b-9bebd0320174",
   "metadata": {},
   "source": [
    "#### 27. Create a program that generates a list of squares of odd numbers between 1 and 10 using list comprehension."
   ]
  },
  {
   "cell_type": "code",
   "execution_count": 10,
   "id": "f8766545-38de-43e5-83f7-93e9c1fa987e",
   "metadata": {},
   "outputs": [
    {
     "name": "stdout",
     "output_type": "stream",
     "text": [
      "List of squares of odd numbers between 1 and 10 is [1, 9, 25, 49, 81]\n"
     ]
    }
   ],
   "source": [
    "oddlst27 = [x ** 2 for x in range(1, 11) if x % 2 == 1]\n",
    "print(f\"List of squares of odd numbers between 1 and 10 is {oddlst27}\")\n"
   ]
  },
  {
   "cell_type": "markdown",
   "id": "ef247250-60be-4129-a254-64325cf7fc13",
   "metadata": {},
   "source": [
    "#### 28. Write a program that combines two lists into a dictionary using list comprehension."
   ]
  },
  {
   "cell_type": "code",
   "execution_count": 13,
   "id": "96c8983d-55ae-42c1-b9b5-86a5c8f56bb9",
   "metadata": {},
   "outputs": [
    {
     "name": "stdout",
     "output_type": "stream",
     "text": [
      "{'a': 0, 'b': 1, 'c': 2}\n"
     ]
    }
   ],
   "source": [
    "lstq = [\"a\", \"b\", \"c\"]\n",
    "lstw = [0, 1, 2]\n",
    "\n",
    "dict28 = {x:y for x, y in zip(lstq, lstw)}\n",
    "print(dict28)"
   ]
  },
  {
   "cell_type": "markdown",
   "id": "d2bb265f-1f45-488f-aa1f-a78683845c3f",
   "metadata": {},
   "source": [
    "#### 29. Develop a program that extracts the vowels from a string and stores them in a list using list comprehension."
   ]
  },
  {
   "cell_type": "code",
   "execution_count": 14,
   "id": "4e1ff96d-d938-46b9-a3e3-7fed3c092469",
   "metadata": {},
   "outputs": [
    {
     "name": "stdout",
     "output_type": "stream",
     "text": [
      "Extracted vowels from the string: ['e', 'e', 'o', 'a', 'o', 'a', 'a', 'e', 'a', 'e', 'o', 'e', 'o', 'a', 'i', 'a', 'o', 'e', 'e', 'i', 'a', 'i', 'u', 'i', 'i', 'o', 'e', 'e', 'i', 'o']\n"
     ]
    }
   ],
   "source": [
    "str29 = \"Develop a program that extracts the vowels from a string and stores them in a list using list comprehension.\"\n",
    "\n",
    "lst29 = [char for char in str29.lower() if char in \"aeiou\"]\n",
    "\n",
    "print(\"Extracted vowels from the string:\", lst29)"
   ]
  },
  {
   "cell_type": "markdown",
   "id": "197804e2-51e5-4ac1-923e-ba77efec893e",
   "metadata": {},
   "source": [
    "#### 30. Create a program that removes all non-numeric characters from a list of strings using list comprehension."
   ]
  },
  {
   "cell_type": "code",
   "execution_count": 17,
   "id": "bfa9bd46-908b-4691-9bf1-35bb4f53e8cb",
   "metadata": {},
   "outputs": [
    {
     "name": "stdout",
     "output_type": "stream",
     "text": [
      "List after removal of all non-numeric characters: ['2', '6', '2', '1']\n"
     ]
    }
   ],
   "source": [
    "str30 = \"oddlst = [x for x in lst26 if x % 2 == 1]\"\n",
    "lst30 = list(str30)\n",
    "\n",
    "lst30 = [i for i in lst30 if i.isdigit()]\n",
    "print(\"List after removal of all non-numeric characters:\", lst30)"
   ]
  },
  {
   "cell_type": "markdown",
   "id": "a008ddcb-6cd4-43d3-ad0d-7bbb8190c4ab",
   "metadata": {},
   "source": [
    "# Challenge Level:"
   ]
  },
  {
   "cell_type": "markdown",
   "id": "fca925ff-86d4-4b1f-ac2c-5abb55b587aa",
   "metadata": {},
   "source": [
    "#### 31. Write a program to generate a list of prime numbers using the Sieve of Eratosthenes algorithm and list comprehension."
   ]
  },
  {
   "cell_type": "code",
   "execution_count": 1,
   "id": "940590c4-fdd3-4b2b-8d5c-685eb80bb6fb",
   "metadata": {},
   "outputs": [
    {
     "name": "stdin",
     "output_type": "stream",
     "text": [
      "Enter the limit to generate prime numbers up to:  22\n"
     ]
    },
    {
     "name": "stdout",
     "output_type": "stream",
     "text": [
      "Prime numbers up to 22: [2, 3, 5, 7, 11, 13, 17, 19]\n"
     ]
    }
   ],
   "source": [
    "def sieve_of_eratosthenes(limit):\n",
    "    sieve = [True] * (limit + 1)\n",
    "    sieve[0], sieve[1] = False, False\n",
    "\n",
    "    for num in range(2, int(limit ** 0.5) + 1):\n",
    "        if sieve[num]:\n",
    "            sieve[num * num : limit + 1 : num] = [False] * ((limit - num * num) // num + 1)\n",
    "\n",
    "    return [num for num in range(2, limit + 1) if sieve[num]]\n",
    "\n",
    "# Input the limit from the user\n",
    "limit = int(input(\"Enter the limit to generate prime numbers up to: \"))\n",
    "\n",
    "# Generate prime numbers using the Sieve of Eratosthenes algorithm with list comprehension\n",
    "prime_numbers = sieve_of_eratosthenes(limit)\n",
    "\n",
    "# Display the generated prime numbers\n",
    "print(f\"Prime numbers up to {limit}: {prime_numbers}\")\n"
   ]
  },
  {
   "cell_type": "markdown",
   "id": "b3fdefba-2d58-4d41-ad27-285b16164301",
   "metadata": {},
   "source": [
    "#### 32. Create a program that generates a list of all Pythagorean triplets up to a specified limit using list comprehension."
   ]
  },
  {
   "cell_type": "code",
   "execution_count": 2,
   "id": "3fb4ea64-a046-486f-9ace-e21e68df669f",
   "metadata": {},
   "outputs": [
    {
     "name": "stdin",
     "output_type": "stream",
     "text": [
      "Enter the limit to generate Pythagorean triplets up to:  10\n"
     ]
    },
    {
     "name": "stdout",
     "output_type": "stream",
     "text": [
      "Pythagorean triplets up to 10: [(3, 4, 5), (6, 8, 10)]\n"
     ]
    }
   ],
   "source": [
    "def generate_pythagorean_triplets(limit):\n",
    "    return [(a, b, c) for a in range(1, limit + 1) \n",
    "                      for b in range(a, limit + 1) \n",
    "                      for c in range(b, limit + 1) \n",
    "                      if a*a + b*b == c*c]\n",
    "\n",
    "# Input the limit from the user\n",
    "limit = int(input(\"Enter the limit to generate Pythagorean triplets up to: \"))\n",
    "\n",
    "# Generate Pythagorean triplets using list comprehension\n",
    "pythagorean_triplets = generate_pythagorean_triplets(limit)\n",
    "\n",
    "# Display the generated Pythagorean triplets\n",
    "print(f\"Pythagorean triplets up to {limit}: {pythagorean_triplets}\")\n"
   ]
  },
  {
   "cell_type": "markdown",
   "id": "00028085-7dd6-4c8d-b70c-aaa9524a08fd",
   "metadata": {},
   "source": [
    "#### 33. Develop a program that generates a list of all possible combinations of two lists using list comprehension."
   ]
  },
  {
   "cell_type": "code",
   "execution_count": 3,
   "id": "2016cde8-5ad2-41c0-9bf2-112c305e4856",
   "metadata": {},
   "outputs": [
    {
     "name": "stdout",
     "output_type": "stream",
     "text": [
      "Generated combinations:\n",
      "(1, 'a')\n",
      "(1, 'b')\n",
      "(1, 'c')\n",
      "(2, 'a')\n",
      "(2, 'b')\n",
      "(2, 'c')\n",
      "(3, 'a')\n",
      "(3, 'b')\n",
      "(3, 'c')\n"
     ]
    }
   ],
   "source": [
    "def generate_combinations(list1, list2):\n",
    "    return [(x, y) for x in list1 for y in list2]\n",
    "\n",
    "# Example lists\n",
    "list_a = [1, 2, 3]\n",
    "list_b = ['a', 'b', 'c']\n",
    "\n",
    "# Generate combinations of elements from the two lists using list comprehension\n",
    "combinations = generate_combinations(list_a, list_b)\n",
    "\n",
    "# Display the generated combinations\n",
    "print(\"Generated combinations:\")\n",
    "for combination in combinations:\n",
    "    print(combination)\n"
   ]
  },
  {
   "cell_type": "markdown",
   "id": "af6378a6-193e-4f92-9e05-367de61018c8",
   "metadata": {},
   "source": [
    "#### 34. Write a program that calculates the mean, median, and mode of a list of numbers using list comprehension."
   ]
  },
  {
   "cell_type": "code",
   "execution_count": 4,
   "id": "723bb842-6575-4a90-acef-d36ae8f87972",
   "metadata": {},
   "outputs": [
    {
     "name": "stdout",
     "output_type": "stream",
     "text": [
      "Mean: 3.090909090909091\n",
      "Median: 3\n",
      "Mode: [3, 5]\n"
     ]
    }
   ],
   "source": [
    "# Function to calculate the mean\n",
    "def calculate_mean(numbers):\n",
    "    return sum(numbers) / len(numbers) if len(numbers) > 0 else 0\n",
    "\n",
    "# Function to calculate the median\n",
    "def calculate_median(numbers):\n",
    "    sorted_numbers = sorted(numbers)\n",
    "    length = len(sorted_numbers)\n",
    "    if length % 2 == 0:\n",
    "        return (sorted_numbers[length // 2 - 1] + sorted_numbers[length // 2]) / 2\n",
    "    else:\n",
    "        return sorted_numbers[length // 2]\n",
    "\n",
    "# Function to calculate the mode\n",
    "def calculate_mode(numbers):\n",
    "    count_dict = {}\n",
    "    for num in numbers:\n",
    "        count_dict[num] = count_dict.get(num, 0) + 1\n",
    "\n",
    "    max_count = max(count_dict.values())\n",
    "    return [num for num, count in count_dict.items() if count == max_count]\n",
    "\n",
    "# Example list of numbers\n",
    "number_list = [3, 1, 5, 3, 2, 1, 3, 4, 5, 2, 5]\n",
    "\n",
    "# Calculate mean, median, and mode\n",
    "mean = calculate_mean(number_list)\n",
    "median = calculate_median(number_list)\n",
    "mode = calculate_mode(number_list)\n",
    "\n",
    "# Display the calculated mean, median, and mode\n",
    "print(f\"Mean: {mean}\")\n",
    "print(f\"Median: {median}\")\n",
    "print(f\"Mode: {mode}\")\n"
   ]
  },
  {
   "cell_type": "markdown",
   "id": "70e60a62-c991-419c-9466-59dc26e4b6d4",
   "metadata": {},
   "source": [
    "#### 35. Create a program that generates Pascal's triangle up to a specified number of rows using list comprehension."
   ]
  },
  {
   "cell_type": "code",
   "execution_count": 6,
   "id": "5612a385-ecb8-4f60-babb-e8cf627f8530",
   "metadata": {},
   "outputs": [
    {
     "name": "stdin",
     "output_type": "stream",
     "text": [
      "Enter the number of rows for Pascal's triangle:  8\n"
     ]
    },
    {
     "name": "stdout",
     "output_type": "stream",
     "text": [
      "1\n",
      "1 1\n",
      "1 2 1\n",
      "1 3 3 1\n",
      "1 4 6 4 1\n",
      "1 5 10 10 5 1\n",
      "1 6 15 20 15 6 1\n",
      "1 7 21 35 35 21 7 1\n"
     ]
    }
   ],
   "source": [
    "def generate_pascals_triangle(num_rows):\n",
    "    triangle = [[1]]\n",
    "    for _ in range(1, num_rows):\n",
    "        row = [1] + [triangle[-1][i] + triangle[-1][i + 1] for i in range(len(triangle[-1]) - 1)] + [1]\n",
    "        triangle.append(row)\n",
    "    return triangle\n",
    "\n",
    "# Get user input for the number of rows\n",
    "num_rows = int(input(\"Enter the number of rows for Pascal's triangle: \"))\n",
    "\n",
    "# Generate Pascal's triangle\n",
    "pascals_triangle = generate_pascals_triangle(num_rows)\n",
    "\n",
    "# Display Pascal's triangle\n",
    "for row in pascals_triangle:\n",
    "    print(' '.join(map(str, row)))\n",
    "    \n"
   ]
  },
  {
   "cell_type": "markdown",
   "id": "46030758-ab5f-4d80-8940-2fcc4896ce56",
   "metadata": {},
   "source": [
    "#### 36. Develop a program that calculates the sum of the digits of a factorial of numbers from 1 to 5 using list comprehension."
   ]
  },
  {
   "cell_type": "code",
   "execution_count": 14,
   "id": "24af77a2-fc36-4b4a-af37-e41fa3eace68",
   "metadata": {},
   "outputs": [
    {
     "name": "stdout",
     "output_type": "stream",
     "text": [
      "Sum of digits of 1! = 1\n",
      "Sum of digits of 2! = 2\n",
      "Sum of digits of 3! = 6\n",
      "Sum of digits of 4! = 6\n",
      "Sum of digits of 5! = 3\n"
     ]
    }
   ],
   "source": [
    "# Function to calculate factorial of a number\n",
    "def factorial(n):\n",
    "    if n == 0 or n == 1:\n",
    "        return 1\n",
    "    else:\n",
    "        return n * factorial(n - 1)\n",
    "\n",
    "# Calculate factorial and sum of digits using list comprehension\n",
    "factorial_sums = [sum(int(digit) for digit in str(factorial(num))) for num in range(1, 6)]\n",
    "\n",
    "# Display the sums of digits for factorials from 1 to 5\n",
    "for i, factorial_sum in enumerate(factorial_sums, start=1):\n",
    "    print(f\"Sum of digits of {i}! =\", factorial_sum)\n"
   ]
  },
  {
   "cell_type": "markdown",
   "id": "7b7155b0-1247-4749-9656-1a5d8eccb47a",
   "metadata": {},
   "source": [
    "#### 37. Write a program that finds the longest word in a sentence using list comprehension."
   ]
  },
  {
   "cell_type": "code",
   "execution_count": 15,
   "id": "679933c4-a4bd-4252-b7a3-5a4853821f33",
   "metadata": {},
   "outputs": [
    {
     "name": "stdin",
     "output_type": "stream",
     "text": [
      "Enter a sentence:  op a program that calculates the sum of the digits of a factorial of numbers from 1 to 5 using list comprehension.\n"
     ]
    },
    {
     "name": "stdout",
     "output_type": "stream",
     "text": [
      "The longest word in the sentence is: comprehension.\n"
     ]
    }
   ],
   "source": [
    "sentence = input(\"Enter a sentence: \")\n",
    "\n",
    "# Split the sentence into words and find the longest word using list comprehension\n",
    "words = sentence.split()\n",
    "longest_word = max(words, key=lambda word: len(word))\n",
    "\n",
    "print(f\"The longest word in the sentence is: {longest_word}\")\n"
   ]
  },
  {
   "cell_type": "markdown",
   "id": "9271de67-6f5b-4a60-8b5b-0ea2655ad8df",
   "metadata": {},
   "source": [
    "#### 38. Create a program that filters a list of strings to include only those with more than three vowels using list comprehension."
   ]
  },
  {
   "cell_type": "code",
   "execution_count": 16,
   "id": "4fbce0b6-ae73-4bcd-931f-2278e1f64cd2",
   "metadata": {},
   "outputs": [
    {
     "name": "stdout",
     "output_type": "stream",
     "text": [
      "List of strings with more than three vowels: []\n"
     ]
    }
   ],
   "source": [
    "def count_vowels(word):\n",
    "    vowels = \"aeiouAEIOU\"\n",
    "    return sum(1 for letter in word if letter in vowels)\n",
    "\n",
    "# List of strings\n",
    "string_list = [\"hello\", \"world\", \"python\", \"programming\", \"example\", \"vowels\"]\n",
    "\n",
    "# Filter strings with more than three vowels using list comprehension\n",
    "filtered_list = [word for word in string_list if count_vowels(word) > 3]\n",
    "\n",
    "# Display the filtered list\n",
    "print(\"List of strings with more than three vowels:\", filtered_list)\n"
   ]
  },
  {
   "cell_type": "markdown",
   "id": "d49f8ae6-1513-4565-a1bf-ccfde32da7de",
   "metadata": {},
   "source": [
    "#### 39. Develop a program that calculates the sum of the digits of numbers from 1 to 1000 using list comprehension."
   ]
  },
  {
   "cell_type": "code",
   "execution_count": 17,
   "id": "0bb3c57a-c1f1-4669-bc19-f4dd5c04795a",
   "metadata": {},
   "outputs": [
    {
     "name": "stdout",
     "output_type": "stream",
     "text": [
      "The sum of digits of numbers from 1 to 1000 is: 13501\n"
     ]
    }
   ],
   "source": [
    "# Calculate sum of digits of a number\n",
    "def sum_of_digits(num):\n",
    "    return sum(int(digit) for digit in str(num))\n",
    "\n",
    "# Calculate sum of digits for numbers from 1 to 1000 using list comprehension\n",
    "sum_of_digits_list = [sum_of_digits(num) for num in range(1, 1001)]\n",
    "\n",
    "# Calculate the overall sum of the list\n",
    "total_sum = sum(sum_of_digits_list)\n",
    "\n",
    "print(f\"The sum of digits of numbers from 1 to 1000 is: {total_sum}\")\n"
   ]
  },
  {
   "cell_type": "markdown",
   "id": "a58676ac-fd7e-4d27-a283-df9e3d61d92f",
   "metadata": {},
   "source": [
    "#### 40. Write a program that generates a list of prime palindromic numbers using list comprehension."
   ]
  },
  {
   "cell_type": "code",
   "execution_count": 18,
   "id": "ce459ea2-9797-4d80-9b15-9945bca09b8e",
   "metadata": {},
   "outputs": [
    {
     "name": "stdout",
     "output_type": "stream",
     "text": [
      "List of prime palindromic numbers: [2, 3, 5, 7, 11, 101, 131, 151, 181, 191, 313, 353, 373, 383, 727, 757, 787, 797, 919, 929]\n"
     ]
    }
   ],
   "source": [
    "# Function to check if a number is prime\n",
    "def is_prime(num):\n",
    "    if num < 2:\n",
    "        return False\n",
    "    for i in range(2, int(num ** 0.5) + 1):\n",
    "        if num % i == 0:\n",
    "            return False\n",
    "    return True\n",
    "\n",
    "# Generate list of prime palindromic numbers using list comprehension\n",
    "prime_palindromes = [num for num in range(2, 1000) if is_prime(num) and str(num) == str(num)[::-1]]\n",
    "\n",
    "# Display the list of prime palindromic numbers\n",
    "print(\"List of prime palindromic numbers:\", prime_palindromes)\n"
   ]
  },
  {
   "cell_type": "code",
   "execution_count": null,
   "id": "c08ccd3b-64a5-4ef6-aa43-6bfede4799df",
   "metadata": {},
   "outputs": [],
   "source": []
  }
 ],
 "metadata": {
  "kernelspec": {
   "display_name": "Python 3 (ipykernel)",
   "language": "python",
   "name": "python3"
  },
  "language_info": {
   "codemirror_mode": {
    "name": "ipython",
    "version": 3
   },
   "file_extension": ".py",
   "mimetype": "text/x-python",
   "name": "python",
   "nbconvert_exporter": "python",
   "pygments_lexer": "ipython3",
   "version": "3.10.8"
  }
 },
 "nbformat": 4,
 "nbformat_minor": 5
}
